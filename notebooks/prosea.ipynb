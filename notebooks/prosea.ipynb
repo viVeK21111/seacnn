{
 "cells": [
  {
   "cell_type": "code",
   "execution_count": 1,
   "metadata": {},
   "outputs": [],
   "source": [
    "import os\n",
    "import cv2\n",
    "import numpy as np\n",
    "from PIL import Image"
   ]
  },
  {
   "cell_type": "code",
   "execution_count": 2,
   "metadata": {},
   "outputs": [
    {
     "name": "stdout",
     "output_type": "stream",
     "text": [
      "D:/ds/dl/data/sea/Clams  done (497, 256, 256, 3)\n",
      "D:/ds/dl/data/sea/Corals  done (500, 256, 256, 3)\n",
      "D:/ds/dl/data/sea/Crabs  done (499, 256, 256, 3)\n",
      "D:/ds/dl/data/sea/Dolphin  done (782, 256, 256, 3)\n",
      "D:/ds/dl/data/sea/Eel  done (497, 256, 256, 3)\n",
      "D:/ds/dl/data/sea/Fish  done (494, 256, 256, 3)\n",
      "D:/ds/dl/data/sea/Jelly Fish  done (845, 256, 256, 3)\n",
      "D:/ds/dl/data/sea/Lobster  done (499, 256, 256, 3)\n",
      "D:/ds/dl/data/sea/Nudibranchs  done (500, 256, 256, 3)\n",
      "D:/ds/dl/data/sea/Octopus  done (562, 256, 256, 3)\n",
      "D:/ds/dl/data/sea/Otter  done (500, 256, 256, 3)\n",
      "D:/ds/dl/data/sea/Penguin  done (482, 256, 256, 3)\n",
      "D:/ds/dl/data/sea/Puffers  done (531, 256, 256, 3)\n",
      "D:/ds/dl/data/sea/Sea Rays  done (517, 256, 256, 3)\n",
      "D:/ds/dl/data/sea/Sea Urchins  done (579, 256, 256, 3)\n",
      "D:/ds/dl/data/sea/Seahorse  done (478, 256, 256, 3)\n",
      "D:/ds/dl/data/sea/Seal  done (414, 256, 256, 3)\n",
      "D:/ds/dl/data/sea/Sharks  done (590, 256, 256, 3)\n",
      "D:/ds/dl/data/sea/Shrimp  done (488, 256, 256, 3)\n",
      "D:/ds/dl/data/sea/Squid  done (483, 256, 256, 3)\n",
      "D:/ds/dl/data/sea/Starfish  done (499, 256, 256, 3)\n",
      "D:/ds/dl/data/sea/Turtle_Tortoise  done (1903, 256, 256, 3)\n",
      "D:/ds/dl/data/sea/Whale  done (572, 256, 256, 3)\n"
     ]
    }
   ],
   "source": [
    "import os\n",
    "directory_list = []\n",
    "for root, dirs, files in os.walk(\"D:/ds/dl/data/sea/\", topdown=False):\n",
    "    for name in dirs:\n",
    "        directory_list.append(os.path.join(root, name))\n",
    "def load_images_from_folder(folder, img_height, img_width):\n",
    "    images = []\n",
    "    i=0\n",
    "    for filename in os.listdir(folder):\n",
    "        img_path = os.path.join(folder, filename)\n",
    "        try:\n",
    "            img = Image.open(img_path)\n",
    "            img = img.resize((img_height, img_width))\n",
    "            img = img.convert('RGB')\n",
    "            img_array = np.array(img)\n",
    "            images.append(img_array)\n",
    "        except Exception as e:\n",
    "            print(f\"Error loading image {filename}: {e}\")\n",
    "    return np.array(images)\n",
    "\n",
    "# Load images\n",
    "imagesl = []\n",
    "imagelab =[]\n",
    "n=1\n",
    "for i in directory_list:\n",
    "    images = load_images_from_folder(i,256,256)\n",
    "    print(i,\" done\",images.shape)\n",
    "    array = np.full(images.shape[0],n)\n",
    "    n+=1\n",
    "    imagelab.append(array)\n",
    "    imagesl.append(images)\n",
    "imagearr = np.concatenate(imagesl,axis=0)"
   ]
  },
  {
   "cell_type": "code",
   "execution_count": 2,
   "metadata": {},
   "outputs": [],
   "source": [
    "ani=['Clams','Corals','Crabs','Dolphin','Eel','Fish','Jelly','Lobster','Nudibranchs','Octopus','Otter','Penguin','Puffers','Sea_Rays','Sea_Urchins','Seahorse','Seal','Sharks','Shrimps','Squid','Starfish','Turtle','Whale']"
   ]
  },
  {
   "cell_type": "code",
   "execution_count": 3,
   "metadata": {},
   "outputs": [
    {
     "data": {
      "text/plain": [
       "23"
      ]
     },
     "execution_count": 3,
     "metadata": {},
     "output_type": "execute_result"
    }
   ],
   "source": [
    "len(ani)"
   ]
  },
  {
   "cell_type": "code",
   "execution_count": 14,
   "metadata": {},
   "outputs": [
    {
     "data": {
      "text/plain": [
       "13711"
      ]
     },
     "execution_count": 14,
     "metadata": {},
     "output_type": "execute_result"
    }
   ],
   "source": [
    "noi =[497,500,499,782,497,494,845,499,500,562,500,482,531,517,579,478,414,590,488,483,499,1903,572]\n",
    "sum(noi)"
   ]
  },
  {
   "cell_type": "code",
   "execution_count": 18,
   "metadata": {},
   "outputs": [
    {
     "data": {
      "text/plain": [
       "<matplotlib.collections.PathCollection at 0x1f81f5d31d0>"
      ]
     },
     "execution_count": 18,
     "metadata": {},
     "output_type": "execute_result"
    },
    {
     "data": {
      "image/png": "[encoded data removed]",
      "text/plain": [
       "<Figure size 640x480 with 1 Axes>"
      ]
     },
     "metadata": {},
     "output_type": "display_data"
    }
   ],
   "source": [
    "import matplotlib.pyplot as plt\n",
    "# 21 classes\n",
    "noi =[497,500,499,782,497,494,845,499,500,562,500,482,531,517,579,478,414,590,488,483,499]# ,1903,572]\n",
    "i = [x for x in range(0,21)]\n",
    "plt.plot(i,noi)\n",
    "plt.scatter(i,noi)"
   ]
  },
  {
   "cell_type": "code",
   "execution_count": null,
   "metadata": {},
   "outputs": [],
   "source": [
    "# as we can see the data is imbalanced\n",
    "# few classes have more number of images and others are less\n",
    "# this leads to low performance or accuracy"
   ]
  },
  {
   "cell_type": "code",
   "execution_count": 4,
   "metadata": {},
   "outputs": [
    {
     "data": {
      "text/plain": [
       "(13711, 256, 256, 3)"
      ]
     },
     "execution_count": 4,
     "metadata": {},
     "output_type": "execute_result"
    }
   ],
   "source": [
    "imagearr.shape"
   ]
  },
  {
   "cell_type": "code",
   "execution_count": 5,
   "metadata": {},
   "outputs": [],
   "source": [
    "imagelab= np.concatenate(imagelab,axis=0)"
   ]
  },
  {
   "cell_type": "code",
   "execution_count": 6,
   "metadata": {},
   "outputs": [
    {
     "data": {
      "text/plain": [
       "(13711,)"
      ]
     },
     "execution_count": 6,
     "metadata": {},
     "output_type": "execute_result"
    }
   ],
   "source": [
    "imagelab.shape"
   ]
  },
  {
   "cell_type": "code",
   "execution_count": 7,
   "metadata": {},
   "outputs": [],
   "source": [
    "np.save(\"combined_labels.npy\",imagelab)"
   ]
  },
  {
   "cell_type": "code",
   "execution_count": 8,
   "metadata": {},
   "outputs": [],
   "source": [
    "np.save(\"combined_array.npy\",imagearr)"
   ]
  },
  {
   "cell_type": "code",
   "execution_count": null,
   "metadata": {},
   "outputs": [],
   "source": []
  },
  {
   "cell_type": "code",
   "execution_count": null,
   "metadata": {},
   "outputs": [],
   "source": []
  }
 ],
 "metadata": {
  "kernelspec": {
   "display_name": "Python 3",
   "language": "python",
   "name": "python3"
  },
  "language_info": {
   "codemirror_mode": {
    "name": "ipython",
    "version": 3
   },
   "file_extension": ".py",
   "mimetype": "text/x-python",
   "name": "python",
   "nbconvert_exporter": "python",
   "pygments_lexer": "ipython3",
   "version": "3.11.9"
  }
 },
 "nbformat": 4,
 "nbformat_minor": 2
}
